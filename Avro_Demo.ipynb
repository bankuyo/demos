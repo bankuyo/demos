{
  "nbformat": 4,
  "nbformat_minor": 0,
  "metadata": {
    "colab": {
      "provenance": [],
      "authorship_tag": "ABX9TyPEpC7uu2ua/X9FXls8vIMJ",
      "include_colab_link": true
    },
    "kernelspec": {
      "name": "python3",
      "display_name": "Python 3"
    },
    "language_info": {
      "name": "python"
    }
  },
  "cells": [
    {
      "cell_type": "markdown",
      "metadata": {
        "id": "view-in-github",
        "colab_type": "text"
      },
      "source": [
        "<a href=\"https://colab.research.google.com/github/bankuyo/demos/blob/main/Avro_Demo.ipynb\" target=\"_parent\"><img src=\"https://colab.research.google.com/assets/colab-badge.svg\" alt=\"Open In Colab\"/></a>"
      ]
    },
    {
      "cell_type": "markdown",
      "source": [
        "# Apach Avroデモ（生成AI Geminiを使っています）\n",
        "このデモでは、Apache Avroライブラリを使って、フィールドの追加と削除を行いながら後方互換性を維持する方法を紹介します。"
      ],
      "metadata": {
        "id": "h8tSoxLmuB8O"
      }
    },
    {
      "cell_type": "markdown",
      "source": [
        "## Avroとは\n",
        "Avroは、Hadoopエコシステムで広く利用されるデータシリアライゼーションシステムです。以下のような特徴を持ちます。\n",
        "\n",
        "- コンパクトなバイナリ形式: データを効率的に保存・転送できます。\n",
        "- スキーマベース: スキーマによってデータ構造を定義し、型安全性を確保します。\n",
        "- スキーマ進化: スキーマの変更に対応し、後方互換性を維持できます。\n",
        "- 言語非依存: 様々なプログラミング言語で利用できます。\n",
        "\n",
        "### スキーマ進化と後方互換性の重要性\n",
        "大規模なデータ処理や分散システムにおいて、スキーマの変更は避けられない場合があります。Avroのスキーマ進化機能は、スキーマを変更しつつも、古いデータとの互換性を維持できるため、システムの安定稼働に貢献します。\n",
        "\n",
        "### デモ概要\n",
        "このデモでは、Apache Avroライブラリを使って、フィールドの追加と削除を行いながら後方互換性を維持する方法を紹介します。具体的には、以下の3つのバージョンのスキーマを定義し、データの読み書きを行います。\n",
        "\n",
        "- バージョン1 (v1): 初期スキーマ (name, age)\n",
        "- バージョン2 (v2): email フィールドを追加\n",
        "- バージョン3 (v3): age フィールドを削除"
      ],
      "metadata": {
        "id": "lY4oK6pCwF1T"
      }
    },
    {
      "cell_type": "markdown",
      "source": [
        "## 1. 準備\n",
        "まず、必要なライブラリをインストールします。"
      ],
      "metadata": {
        "id": "moYf_QxbuXUS"
      }
    },
    {
      "cell_type": "code",
      "source": [
        "!pip install avro"
      ],
      "metadata": {
        "colab": {
          "base_uri": "https://localhost:8080/"
        },
        "id": "fx_zTvkguH3x",
        "outputId": "acd3248d-873f-4d33-df08-71e2851a94bd"
      },
      "execution_count": null,
      "outputs": [
        {
          "output_type": "stream",
          "name": "stdout",
          "text": [
            "Collecting avro\n",
            "  Downloading avro-1.11.3.tar.gz (90 kB)\n",
            "\u001b[?25l     \u001b[90m━━━━━━━━━━━━━━━━━━━━━━━━━━━━━━━━━━━━━━━━\u001b[0m \u001b[32m0.0/90.6 kB\u001b[0m \u001b[31m?\u001b[0m eta \u001b[36m-:--:--\u001b[0m\r\u001b[2K     \u001b[91m━━━━━━━━━━━━━━━━━━━━━━━━━━━━━━━━━━━━\u001b[0m\u001b[90m╺\u001b[0m\u001b[90m━━━\u001b[0m \u001b[32m81.9/90.6 kB\u001b[0m \u001b[31m2.6 MB/s\u001b[0m eta \u001b[36m0:00:01\u001b[0m\r\u001b[2K     \u001b[90m━━━━━━━━━━━━━━━━━━━━━━━━━━━━━━━━━━━━━━━━\u001b[0m \u001b[32m90.6/90.6 kB\u001b[0m \u001b[31m2.0 MB/s\u001b[0m eta \u001b[36m0:00:00\u001b[0m\n",
            "\u001b[?25h  Installing build dependencies ... \u001b[?25l\u001b[?25hdone\n",
            "  Getting requirements to build wheel ... \u001b[?25l\u001b[?25hdone\n",
            "  Preparing metadata (pyproject.toml) ... \u001b[?25l\u001b[?25hdone\n",
            "Building wheels for collected packages: avro\n",
            "  Building wheel for avro (pyproject.toml) ... \u001b[?25l\u001b[?25hdone\n",
            "  Created wheel for avro: filename=avro-1.11.3-py2.py3-none-any.whl size=123913 sha256=718071f372a224d8a63967a01ba7df25755e04f7f06aae5abe73f00bd2e4effe\n",
            "  Stored in directory: /root/.cache/pip/wheels/1d/f6/41/0e0399396af07060e64d4e32c8bd259b48b98a4a114df31294\n",
            "Successfully built avro\n",
            "Installing collected packages: avro\n",
            "Successfully installed avro-1.11.3\n"
          ]
        }
      ]
    },
    {
      "cell_type": "markdown",
      "source": [
        "## 2. Avroスキーマの定義\n",
        "\n",
        "Avroでは、スキーマを使ってデータ構造を定義します。ここでは、userというレコード（構造体のようなもの）を定義します。\n",
        "ここではuser レコードの初期バージョン (v1) を定義します。"
      ],
      "metadata": {
        "id": "THZ4Q5EOucfZ"
      }
    },
    {
      "cell_type": "code",
      "source": [
        "import avro.schema\n",
        "from avro.datafile import DataFileReader, DataFileWriter\n",
        "from avro.io import DatumReader, DatumWriter\n",
        "\n",
        "schema_v1_string = \"\"\"\n",
        "{\n",
        "  \"type\": \"record\",\n",
        "  \"name\": \"user\",\n",
        "  \"fields\": [\n",
        "    {\"name\": \"name\", \"type\": \"string\"},\n",
        "    {\"name\": \"age\", \"type\": \"int\"}\n",
        "  ]\n",
        "}\n",
        "\"\"\"\n",
        "\n",
        "schema_v1 = avro.schema.parse(schema_v1_string)"
      ],
      "metadata": {
        "id": "rXdNuLLEueb4"
      },
      "execution_count": null,
      "outputs": []
    },
    {
      "cell_type": "markdown",
      "source": [
        "## 3. 初期データの書き込み (v1)\n",
        "\n",
        "初期スキーマ (v1) を使ってデータを書き込みます。\n",
        "\n"
      ],
      "metadata": {
        "id": "zms3ToOyuiMZ"
      }
    },
    {
      "cell_type": "code",
      "source": [
        "records_v1 = [\n",
        "    {\"name\": \"Alice\", \"age\": 30},\n",
        "    {\"name\": \"Bob\", \"age\": 25},\n",
        "]\n",
        "\n",
        "with open(\"users_v1.avro\", \"wb\") as out:\n",
        "    writer = DataFileWriter(out, DatumWriter(), schema_v1)\n",
        "    for record in records_v1:\n",
        "        writer.append(record)\n",
        "    writer.close()\n"
      ],
      "metadata": {
        "id": "uGZWQWKyuRUW"
      },
      "execution_count": null,
      "outputs": []
    },
    {
      "cell_type": "markdown",
      "source": [
        "## 4. スキーマの進化 (v2: フィールド追加)\n",
        "\n",
        "スキーマに新しいフィールド email を追加し、バージョン2 (v2) とします。\n",
        "\n"
      ],
      "metadata": {
        "id": "A1o6bHBAvCWs"
      }
    },
    {
      "cell_type": "code",
      "source": [
        "schema_v2_string = \"\"\"\n",
        "{\n",
        "  \"type\": \"record\",\n",
        "  \"name\": \"user\",\n",
        "  \"fields\": [\n",
        "    {\"name\": \"name\", \"type\": \"string\"},\n",
        "    {\"name\": \"age\", \"type\": \"int\"},\n",
        "    {\"name\": \"email\", \"type\": [\"null\", \"string\"], \"default\": null}\n",
        "  ]\n",
        "}\n",
        "\"\"\"\n",
        "\n",
        "schema_v2 = avro.schema.parse(schema_v2_string)"
      ],
      "metadata": {
        "id": "gagQfZQQu2zt"
      },
      "execution_count": null,
      "outputs": []
    },
    {
      "cell_type": "markdown",
      "source": [
        "## 5. 新しいスキーマ (v2) でデータを読み込み\n",
        "\n",
        "新しいスキーマ (v2) を使って、古いデータ (v1) を読み込んでみます。"
      ],
      "metadata": {
        "id": "zIW9MYrNvJHq"
      }
    },
    {
      "cell_type": "code",
      "source": [
        "with open(\"users_v1.avro\", \"rb\") as fo:\n",
        "    reader = DataFileReader(fo, DatumReader(writers_schema=schema_v1, readers_schema=schema_v2))\n",
        "    for record in reader:\n",
        "        print(record)  # email フィールドはデフォルト値 null で補完される\n",
        "    reader.close()\n"
      ],
      "metadata": {
        "colab": {
          "base_uri": "https://localhost:8080/"
        },
        "id": "WLBKXXrKvFmC",
        "outputId": "7fb3d684-b33c-4504-b66d-2d80ad65317d"
      },
      "execution_count": null,
      "outputs": [
        {
          "output_type": "stream",
          "name": "stdout",
          "text": [
            "{'name': 'Alice', 'age': 30, 'email': None}\n",
            "{'name': 'Bob', 'age': 25, 'email': None}\n"
          ]
        }
      ]
    },
    {
      "cell_type": "markdown",
      "source": [
        "## 6. スキーマの進化 (v3: フィールド削除)\n",
        "\n",
        "スキーマから age フィールドを削除し、バージョン3 (v3) とします。"
      ],
      "metadata": {
        "id": "UDPElXGwvPdm"
      }
    },
    {
      "cell_type": "code",
      "source": [
        "schema_v3_string = \"\"\"\n",
        "{\n",
        "  \"type\": \"record\",\n",
        "  \"name\": \"user\",\n",
        "  \"fields\": [\n",
        "    {\"name\": \"name\", \"type\": \"string\"},\n",
        "    {\"name\": \"email\", \"type\": [\"null\", \"string\"], \"default\": null}\n",
        "  ]\n",
        "}\n",
        "\"\"\"\n",
        "\n",
        "schema_v3 = avro.schema.parse(schema_v3_string)\n"
      ],
      "metadata": {
        "id": "ODPiqM0lvLnQ"
      },
      "execution_count": null,
      "outputs": []
    },
    {
      "cell_type": "markdown",
      "source": [
        "## 7. 新しいスキーマ (v3) でデータを読み込み\n",
        "\n",
        "新しいスキーマ (v3) を使って、古いデータ (v1) を読み込んでみます。"
      ],
      "metadata": {
        "id": "AvtzT-novfMz"
      }
    },
    {
      "cell_type": "code",
      "source": [
        "with open(\"users_v1.avro\", \"rb\") as fo:\n",
        "    reader = DataFileReader(fo, DatumReader(writers_schema=schema_v1, readers_schema=schema_v3))\n",
        "    for record in reader:\n",
        "        print(record)  # age フィールドは無視される\n",
        "    reader.close()\n"
      ],
      "metadata": {
        "colab": {
          "base_uri": "https://localhost:8080/"
        },
        "id": "ETq5sCVUvc4b",
        "outputId": "1ebd47ac-7ac1-49d7-abbf-335b00ecb5ce"
      },
      "execution_count": null,
      "outputs": [
        {
          "output_type": "stream",
          "name": "stdout",
          "text": [
            "{'name': 'Alice', 'email': None}\n",
            "{'name': 'Bob', 'email': None}\n"
          ]
        }
      ]
    },
    {
      "cell_type": "markdown",
      "source": [
        "## 解説\n",
        "\n",
        "- 後方互換性 (フィールド追加): 新しいスキーマ (v2) で古いデータ (v1) を読む場合、追加された email フィールドにはデフォルト値 null が設定されます。\n",
        "- 後方互換性 (フィールド削除): 新しいスキーマ (v3) で古いデータ (v1) を読む場合、削除された age フィールドは無視されます。\n",
        "- writers_schema と readers_schema: DatumReader のコンストラクタで、書き込み時のスキーマ (writers_schema) と読み込み時のスキーマ (readers_schema) を指定することで、異なるスキーマ間の変換を適切に処理できます。"
      ],
      "metadata": {
        "id": "rQUIj2eGvtPf"
      }
    }
  ]
}